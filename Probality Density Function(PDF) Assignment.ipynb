{
 "cells": [
  {
   "cell_type": "code",
   "execution_count": null,
   "id": "6d719878",
   "metadata": {},
   "outputs": [],
   "source": [
    "Q1. What is the Probability density function?"
   ]
  },
  {
   "cell_type": "markdown",
   "id": "0af97c3e",
   "metadata": {},
   "source": [
    "==>\n",
    "The Probability Density Function (PDF) is a fundamental concept in probability theory and statistics. It is used to describe the likelihood of a continuous random variable taking on a particular value within a certain range. In simpler terms, the PDF gives you information about the distribution of probabilities over a continuous range of values.\n",
    "\n",
    "Mathematically, the PDF is denoted as\n",
    "f(x), where x is the variable, and it satisfies the following properties:\n",
    "    \n",
    "Non-negative values: f(x)≥0 for all x.\n",
    "Area under the curve: The total area under the PDF curve over its entire domain is equal to 1.\n",
    "The probability that a continuous random variable \n",
    "X falls within a specific interval \n",
    "[a,b] is given by integrating the PDF over that interval:\n",
    "P(a≤X≤b)=∫ f(x)dx.    \n",
    "\n",
    "\n",
    "\n",
    "\n"
   ]
  },
  {
   "cell_type": "code",
   "execution_count": null,
   "id": "41d5cc14",
   "metadata": {},
   "outputs": [],
   "source": [
    "Q2. What are the types of Probability distribution?"
   ]
  },
  {
   "cell_type": "markdown",
   "id": "32bc82da",
   "metadata": {},
   "source": [
    "==>\n",
    "There are several types of probability distributions, each with its own characteristics and applications. \n",
    "\n",
    "1)Discrete Probability Distributions:\n",
    "\n",
    "a)Bernoulli Distribution: Describes a single binary outcome (e.g., success/failure) with a fixed probability.\n",
    "b)Binomial Distribution: Models the number of successes in a fixed number of independent Bernoulli trials.\n",
    "c)Poisson Distribution: Models the number of events that occur in a fixed interval of time or space, given a certain average rate.\n",
    "d)Geometric Distribution: Represents the number of trials needed to achieve the first success in a sequence of Bernoulli trials.\n",
    "\n",
    "2)Continuous Probability Distributions:\n",
    "\n",
    "a)Normal Distribution (Gaussian Distribution): Characterized by a bell-shaped curve and is widely used due to the central limit theorem.\n",
    "b)Exponential Distribution: Describes the time between events in a Poisson process, often used for modeling survival times.\n",
    "c)Uniform Distribution: All outcomes in a given interval are equally likely.\n",
    "d)Gamma Distribution: Generalizes the exponential distribution and is used for modeling waiting times and event occurrences.\n",
    "    \n",
    "3)Other Distributions:\n",
    "\n",
    "a)Chi-Square Distribution: Used in hypothesis testing and confidence interval estimation.\n",
    "b)Student's t-Distribution: Used for inference about population means when the sample size is small.\n",
    "c)F-Distribution: Used in analysis of variance (ANOVA) and regression analysis.   "
   ]
  },
  {
   "cell_type": "code",
   "execution_count": null,
   "id": "4adc0a02",
   "metadata": {},
   "outputs": [],
   "source": []
  },
  {
   "cell_type": "markdown",
   "id": "8e4d18b6",
   "metadata": {},
   "source": [
    "Q3. Write a Python function to calculate the probability density function of a normal distribution with\n",
    "given mean and standard deviation at a given point."
   ]
  },
  {
   "cell_type": "code",
   "execution_count": 2,
   "id": "1ab6d337",
   "metadata": {},
   "outputs": [
    {
     "name": "stdout",
     "output_type": "stream",
     "text": [
      "PDF at x = 1.5: 0.1295\n"
     ]
    }
   ],
   "source": [
    "\n",
    "import math\n",
    "\n",
    "def normal_pdf(x, mean, std_dev):\n",
    "    \"\"\"\n",
    "    Calculate the probability density function (PDF) of a normal distribution at a given point.\n",
    "\n",
    "    Parameters:\n",
    "        x (float): The point at which to calculate the PDF.\n",
    "        mean (float): Mean of the normal distribution.\n",
    "        std_dev (float): Standard deviation of the normal distribution.\n",
    "\n",
    "    Returns:\n",
    "        float: The PDF value at the given point.\n",
    "    \"\"\"\n",
    "    coefficient = 1 / (std_dev * math.sqrt(2 * math.pi))\n",
    "    exponent = -0.5 * ((x - mean) / std_dev) ** 2\n",
    "    pdf_value = coefficient * math.exp(exponent)\n",
    "    return pdf_value\n",
    "\n",
    "# Example usage\n",
    "mean = 0\n",
    "std_dev = 1\n",
    "point = 1.5\n",
    "pdf_at_point = normal_pdf(point, mean, std_dev)\n",
    "print(f\"PDF at x = {point}: {pdf_at_point:.4f}\")\n"
   ]
  },
  {
   "cell_type": "code",
   "execution_count": null,
   "id": "33b67fda",
   "metadata": {},
   "outputs": [],
   "source": []
  },
  {
   "cell_type": "markdown",
   "id": "f862f08c",
   "metadata": {},
   "source": [
    "Q4. What are the properties of Binomial distribution? Give two examples of events where binomial distribution can be applied."
   ]
  },
  {
   "cell_type": "markdown",
   "id": "f24f3427",
   "metadata": {},
   "source": [
    "==>\n",
    "The Binomial distribution is a discrete probability distribution that describes the number of successes in a fixed number of independent Bernoulli trials, where each trial has two possible outcomes (often referred to as \"success\" and \"failure\"). The properties of the Binomial distribution include:\n",
    "\n",
    "\n",
    "1)Fixed Number of Trials: The distribution is defined over a fixed number of trials, denoted as n, where each trial can result in either success or failure.\n",
    "\n",
    "2)Independent Trials: Each trial is assumed to be independent of the others, meaning that the outcome of one trial does not affect the outcomes of the others.\n",
    "\n",
    "3)Constant Probability: The probability of success (p) remains constant for each trial, and the probability of failure is (1-p)\n",
    "\n",
    "4)Discrete Outcomes: The Binomial distribution deals with a discrete number of successes, ranging from 0 to n."
   ]
  },
  {
   "cell_type": "code",
   "execution_count": null,
   "id": "542b66db",
   "metadata": {},
   "outputs": [],
   "source": []
  },
  {
   "cell_type": "code",
   "execution_count": null,
   "id": "ab7c8f67",
   "metadata": {},
   "outputs": [],
   "source": [
    "Q5. Generate a random sample of size 1000 from a binomial distribution with probability of success 0.4\n",
    "and plot a histogram of the results using matplotlib."
   ]
  },
  {
   "cell_type": "code",
   "execution_count": 3,
   "id": "55e7cd4e",
   "metadata": {},
   "outputs": [
    {
     "data": {
      "image/png": "[encoded data removed]",
      "text/plain": [
       "<Figure size 640x480 with 1 Axes>"
      ]
     },
     "metadata": {},
     "output_type": "display_data"
    }
   ],
   "source": [
    "import numpy as np\n",
    "import matplotlib.pyplot as plt\n",
    "\n",
    "# Parameters for the Binomial distribution\n",
    "n = 1000  # Number of trials\n",
    "p = 0.4   # Probability of success\n",
    "\n",
    "# Generate a random sample from the Binomial distribution\n",
    "random_sample = np.random.binomial(n, p, size=1000)\n",
    "\n",
    "# Plotting the histogram\n",
    "plt.hist(random_sample, bins=range(n+1), align='left', density=True, alpha=0.7)\n",
    "plt.title('Histogram of Binomial Distribution')\n",
    "plt.xlabel('Number of Successes')\n",
    "plt.ylabel('Probability')\n",
    "plt.xticks(range(n+1))\n",
    "plt.grid(True)\n",
    "plt.show()\n"
   ]
  },
  {
   "cell_type": "code",
   "execution_count": null,
   "id": "d7856926",
   "metadata": {},
   "outputs": [],
   "source": []
  },
  {
   "cell_type": "code",
   "execution_count": null,
   "id": "14699fea",
   "metadata": {},
   "outputs": [],
   "source": []
  },
  {
   "cell_type": "markdown",
   "id": "03b7d6e3",
   "metadata": {},
   "source": [
    "Q6. Write a Python function to calculate the cumulative distribution function of a Poisson distribution\n",
    "with given mean at a given point."
   ]
  },
  {
   "cell_type": "code",
   "execution_count": 4,
   "id": "5108143d",
   "metadata": {},
   "outputs": [
    {
     "name": "stdout",
     "output_type": "stream",
     "text": [
      "CDF at x = 2: 0.3208\n"
     ]
    }
   ],
   "source": [
    "import math\n",
    "\n",
    "def poisson_cdf(x, mean):\n",
    "    \"\"\"\n",
    "    Calculate the cumulative distribution function (CDF) of a Poisson distribution at a given point.\n",
    "\n",
    "    Parameters:\n",
    "        x (int): The point at which to calculate the CDF.\n",
    "        mean (float): Mean of the Poisson distribution.\n",
    "\n",
    "    Returns:\n",
    "        float: The CDF value at the given point.\n",
    "    \"\"\"\n",
    "    cdf_value = 0\n",
    "    for k in range(x + 1):\n",
    "        cdf_value += (math.exp(-mean) * mean ** k) / math.factorial(k)\n",
    "    return cdf_value\n",
    "\n",
    "# Example usage\n",
    "mean = 3.5\n",
    "point = 2\n",
    "cdf_at_point = poisson_cdf(point, mean)\n",
    "print(f\"CDF at x = {point}: {cdf_at_point:.4f}\")\n"
   ]
  },
  {
   "cell_type": "code",
   "execution_count": null,
   "id": "96bfa3a6",
   "metadata": {},
   "outputs": [],
   "source": []
  },
  {
   "cell_type": "code",
   "execution_count": null,
   "id": "e2750e56",
   "metadata": {},
   "outputs": [],
   "source": [
    "Q7. How Binomial distribution different from Poisson distribution?"
   ]
  },
  {
   "cell_type": "markdown",
   "id": "94139c1a",
   "metadata": {},
   "source": [
    "==>\n",
    "1.Binomial Distribution:\n",
    "\n",
    "a)Number of Trials: The Binomial distribution is used when there is a fixed number of independent trials, denoted as n, each with two possible outcomes: success (probability  failure (probability 1−p).\n",
    "b)Probability of Success: The probability of success (p) remains constant across all trials.\n",
    "c)Discrete Outcomes: The Binomial distribution deals with a discrete number of successes, ranging from 0 to n.\n",
    "d)Conditions: It is suitable when trials are independent, outcomes are mutually exclusive, and the probability of success remains constant.\n",
    "    \n",
    "2.Poisson Distribution:\n",
    "\n",
    "a)Continuous Time or Space: The Poisson distribution is often used to model the number of events occurring in a fixed interval of time or space.\n",
    "b)Rate of Events: Instead of a fixed number of trials, the Poisson distribution is characterized by an average rate (λ) at which events occur in the given interval.\n",
    "c)Rare Events: The Poisson distribution is commonly used when the events are rare and independent.\n",
    "d)Approximation: In certain conditions where n is large and p is small, the Binomial distribution can be approximated using the Poisson distribution.    \n",
    "    "
   ]
  },
  {
   "cell_type": "code",
   "execution_count": null,
   "id": "fc4a47a1",
   "metadata": {},
   "outputs": [],
   "source": []
  },
  {
   "cell_type": "code",
   "execution_count": null,
   "id": "61b2387e",
   "metadata": {},
   "outputs": [],
   "source": [
    "Q8. Generate a random sample of size 1000 from a Poisson distribution with mean 5 and calculate the\n",
    "sample mean and variance."
   ]
  },
  {
   "cell_type": "code",
   "execution_count": 6,
   "id": "e20b351e",
   "metadata": {},
   "outputs": [
    {
     "name": "stdout",
     "output_type": "stream",
     "text": [
      "Sample Mean: 5.0220\n",
      "Sample Variance: 5.3275\n"
     ]
    }
   ],
   "source": [
    "import numpy as np\n",
    "\n",
    "# Parameters for the Poisson distribution\n",
    "mean = 5\n",
    "\n",
    "# Generate a random sample from the Poisson distribution\n",
    "random_sample = np.random.poisson(mean, size=1000)\n",
    "\n",
    "# Calculate the sample mean and variance\n",
    "sample_mean = np.mean(random_sample)\n",
    "sample_variance = np.var(random_sample)\n",
    "\n",
    "print(f\"Sample Mean: {sample_mean:.4f}\")\n",
    "print(f\"Sample Variance: {sample_variance:.4f}\")\n"
   ]
  },
  {
   "cell_type": "code",
   "execution_count": null,
   "id": "2dc8b182",
   "metadata": {},
   "outputs": [],
   "source": []
  },
  {
   "cell_type": "markdown",
   "id": "61185be0",
   "metadata": {},
   "source": [
    "Q9. How mean and variance are related in Binomial distribution and Poisson distribution?"
   ]
  },
  {
   "cell_type": "markdown",
   "id": "40cc22f3",
   "metadata": {},
   "source": [
    "==>\n",
    "1.Binomial Distribution:\n",
    "For a Binomial distribution with parameters n (number of trials) and \n",
    "p (probability of success in each trial), the mean and variance are related as follows:\n",
    "\n",
    "Mean:μ=n⋅p\n",
    "Variance:σ 2=n⋅p⋅(1−p)\n",
    "\n",
    " The variance in the Binomial distribution depends on both the number of trials and the probability of success. As the probability of success increases or decreases from 0.5, the variance tends to decrease. When the probability of success is close to 0 or 1, the distribution becomes more skewed and the variance decreases.\n",
    "\n",
    "Poisson Distribution:\n",
    "For a Poisson distribution with parameter λ (average rate of events), the mean and variance are related as follows:\n",
    "\n",
    "Mean:μ=λ\n",
    "Variance: 2=σ 2=λ\n",
    "\n",
    "    In the Poisson distribution, the variance is equal to the mean =σ 2=μ). This property makes the Poisson distribution special and implies that the variability of the distribution is entirely determined by the average rate \n",
    "\n",
    "λ. If events are occurring at a constant rate, the Poisson distribution's variance is equal to its mean."
   ]
  },
  {
   "cell_type": "code",
   "execution_count": null,
   "id": "949659cb",
   "metadata": {},
   "outputs": [],
   "source": []
  },
  {
   "cell_type": "code",
   "execution_count": null,
   "id": "dbefc9c8",
   "metadata": {},
   "outputs": [],
   "source": [
    "Q10. In normal distribution with respect to mean position, where does the least frequent data appear?"
   ]
  },
  {
   "cell_type": "markdown",
   "id": "96d80586",
   "metadata": {},
   "source": [
    "==>\n",
    "In a normal distribution (also known as a Gaussian distribution), the data is symmetrically distributed around the mean. This means that the least frequent data points appear in the tails of the distribution, which are the regions that are farthest from the mean.\n",
    "\n",
    "Specifically, the normal distribution's tails extend infinitely in both directions, getting closer and closer to the x-axis but never actually touching it. The probability of observing data points in these tails decreases rapidly as you move away from the mean. The farther you go from the mean, the lower the probability of encountering data points.\n",
    "\n",
    "In a standard normal distribution (a normal distribution with a mean of 0 and a standard deviation of 1), approximately 68% of the data lies within one standard deviation of the mean, about 95% lies within two standard deviations, and around 99.7% lies within three standard deviations. This leaves only a small percentage of data in the tails, where the data points are least frequent."
   ]
  },
  {
   "cell_type": "code",
   "execution_count": null,
   "id": "f5dc5a57",
   "metadata": {},
   "outputs": [],
   "source": []
  }
 ],
 "metadata": {
  "kernelspec": {
   "display_name": "Python 3 (ipykernel)",
   "language": "python",
   "name": "python3"
  },
  "language_info": {
   "codemirror_mode": {
    "name": "ipython",
    "version": 3
   },
   "file_extension": ".py",
   "mimetype": "text/x-python",
   "name": "python",
   "nbconvert_exporter": "python",
   "pygments_lexer": "ipython3",
   "version": "3.10.9"
  }
 },
 "nbformat": 4,
 "nbformat_minor": 5
}
